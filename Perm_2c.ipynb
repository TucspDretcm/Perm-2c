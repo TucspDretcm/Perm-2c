{
  "nbformat": 4,
  "nbformat_minor": 0,
  "metadata": {
    "colab": {
      "name": "Perm_2c.ipynb",
      "provenance": [],
      "collapsed_sections": [
        "qu6vcDr0jlmP",
        "Vwtx_O4N0Qno",
        "S1vyZNRc0d8m",
        "MZ5A22xy0Tx2"
      ],
      "authorship_tag": "ABX9TyOLXaoYA/pUQk2kju3nWIRU",
      "include_colab_link": true
    },
    "kernelspec": {
      "name": "python3",
      "display_name": "Python 3"
    },
    "language_info": {
      "name": "python"
    }
  },
  "cells": [
    {
      "cell_type": "markdown",
      "metadata": {
        "id": "view-in-github",
        "colab_type": "text"
      },
      "source": [
        "<a href=\"https://colab.research.google.com/github/TucspDretcm/Perm-2c/blob/main/Perm_2c.ipynb\" target=\"_parent\"><img src=\"https://colab.research.google.com/assets/colab-badge.svg\" alt=\"Open In Colab\"/></a>"
      ]
    },
    {
      "cell_type": "markdown",
      "source": [
        "<h1><b><u>Algebra Abstracta</u></b></h1>\n",
        "2022-1\n",
        "\n",
        "Permanente 2c\n",
        "\n",
        "<h2>Integrantes:</h2>\n",
        "\n",
        "*   Gabriel Ivan Rodriguez Postigo\n",
        "*   Jaime Mateo Gutiérrez Muñoz\n",
        "*   Alexander Carpio Mamani"
      ],
      "metadata": {
        "id": "DZLCHxRn6QId"
      }
    },
    {
      "cell_type": "markdown",
      "source": [
        "# RSA KEY GENERATOR"
      ],
      "metadata": {
        "id": "qu6vcDr0jlmP"
      }
    },
    {
      "cell_type": "markdown",
      "source": [
        "## 1.1) Euclides"
      ],
      "metadata": {
        "id": "Vwtx_O4N0Qno"
      }
    },
    {
      "cell_type": "code",
      "execution_count": null,
      "metadata": {
        "id": "ETLbgxip0OdL"
      },
      "outputs": [],
      "source": [
        "def Euclides(a, b):\n",
        "  if b == 0:\n",
        "    return a\n",
        "  else:\n",
        "    return Euclides(b, a%b)\n",
        "\n",
        "def Ext_Euclides(a, b):\n",
        "  if b == 0:\n",
        "    return (a, 1, 0)\n",
        "  else:\n",
        "    d, x_, y_ = Ext_Euclides(b, a%b)\n",
        "    x, y = y_, x_ - int(a/b)*y_\n",
        "    return (d, x, y)\n",
        "\n",
        "def Inversa(a, n):\n",
        "  if Euclides(a, n) == 1:\n",
        "    mgd, x, y = Ext_Euclides(a, n)\n",
        "    return x % n\n",
        "  else:\n",
        "    print(\"No existe inversa\")"
      ]
    },
    {
      "cell_type": "markdown",
      "source": [
        "## 1.2) Miller-Rabin"
      ],
      "metadata": {
        "id": "S1vyZNRc0d8m"
      }
    },
    {
      "cell_type": "code",
      "source": [
        "import random\n",
        "\n",
        "# Iterativo\n",
        "def EXPMOD(a, x, n):\n",
        "  c = a % n\n",
        "  r = 1\n",
        "  while (x > 0):\n",
        "    if x % 2 != 0:\n",
        "      r = (r * c) % n\n",
        "    c = (c * c) % n\n",
        "    x = int(x/2)\n",
        "  return r\n",
        "\n",
        "def ES_COMPUESTO(a, n, t, u):\n",
        "  # x = a**u % n    # ERROR! : OVERFLOW con números de varias cifras.\n",
        "  x = EXPMOD(a,u,n)\n",
        "  if x == 1 or x == n-1:\n",
        "    return False  # n es posiblemente primo\n",
        "  for i in range(t):\n",
        "    x = EXPMOD(x,2,n)\n",
        "    if x == n-1:\n",
        "      return False  # n es posiblemente primo\n",
        "  return True    # n es un número compuesto\n",
        "\n",
        "def gen_random_a(n, s):  # genera \"s\" numeros random unicos en el rango de 2 y n-1, si no se pueden generar \"s\" números entonces retorna lo que tenga.\n",
        "  randoms = []\n",
        "  maximo = min(s, n-3)\n",
        "  while len(randoms) < maximo:\n",
        "    num = random.randint(2, n-1)\n",
        "    if num not in randoms:\n",
        "      randoms.append(num)\n",
        "  return randoms\n",
        "\n",
        "def MILLER_RABIN(n, s):\n",
        "  t = 0\n",
        "  u = n - 1\n",
        "  while u % 2 == 0:\n",
        "    u = u//2\n",
        "    t = t + 1\n",
        "  #for a in gen_random_a(n, s):\n",
        "  for _ in range(s):\n",
        "    a = random.randint(2, n-1)\n",
        "    if ES_COMPUESTO(a, n, t, u):\n",
        "      return False\n",
        "  return True\n",
        "\n",
        "def RANDOMBITS(b):\n",
        "  n = random.randint(0, 2**b - 1)\n",
        "  m = 2**(b-1) + 1\n",
        "  return n | m    # el operador \"|\" nos permite hacer una operación binaria de \"n\" y \"m\" en binario(bin(n) v bin(m)).\n",
        "\n",
        "def RANDOMGEN_PRIMOS(b, s):\n",
        "  n = RANDOMBITS(b)\n",
        "  while MILLER_RABIN(n, s) == False:\n",
        "    n = n + 2\n",
        "  return n\n",
        "\n",
        "def GEN_PRIMO_SIGUIENTE(n, s):\n",
        "  n = n + 1 - (n % 2)\n",
        "  while MILLER_RABIN(n, s) == False:\n",
        "    n = n + 2\n",
        "  return n"
      ],
      "metadata": {
        "id": "13KTBznS06SY"
      },
      "execution_count": null,
      "outputs": []
    },
    {
      "cell_type": "markdown",
      "source": [
        "## 1.3) Implementar RSA KEY GENERATOR."
      ],
      "metadata": {
        "id": "MZ5A22xy0Tx2"
      }
    },
    {
      "cell_type": "code",
      "source": [
        "class RSA:\n",
        "  def __init__(self, k, info=False):\n",
        "\n",
        "    n = 1\n",
        "    while True:\n",
        "      self.e, self.d, self.n = self.RSA_KEY_GENERATOR(k, 10**n)\n",
        "      m = random.randint(2,self.n-1)\n",
        "      c = self.Cifrado(m)\n",
        "      if m == self.Descifrado(c):\n",
        "        break\n",
        "      else:\n",
        "        n += 1\n",
        "\n",
        "    if info:\n",
        "      print(\"RSA (s={:}, e={:}, d={:}, n={:}, phi={:})\".format(10**n, self.e, self.d, self.n, self.phi))\n",
        "\n",
        "  def RSA_KEY_GENERATOR(self, k, s):\n",
        "    if k<8:    # generar primos con bits menores al dividirlos entre 2 no abria muchos, ocurria un loop, o un error.\n",
        "      k = 8\n",
        "    p = RANDOMGEN_PRIMOS(k//2, s)\n",
        "    q = RANDOMGEN_PRIMOS(k//2, s)\n",
        "    while p==q:\n",
        "      q = RANDOMGEN_PRIMOS(k//2, s)\n",
        "\n",
        "    n, self.phi = p*q, (p-1)*(q-1)\n",
        "\n",
        "    e = random.randint(2,n-1)\n",
        "    while Euclides(e, self.phi)!=1:\n",
        "      e = random.randint(2, n-1)\n",
        "      \n",
        "    d = Inversa(e, self.phi)\n",
        "    return e, d, n\n",
        "\n",
        "  def Cifrado(self, m):\n",
        "    return EXPMOD(m, self.e, self.n)\n",
        "\n",
        "  def Descifrado(self, c):\n",
        "    return EXPMOD(c, self.d, self.n)\n",
        "  \n",
        "  def Cifrado_msg(self, msg):\n",
        "    cade = \"\"\n",
        "    data = []\n",
        "    for m in msg:\n",
        "      me = self.Cifrado(ord(m))    # pasamos el valor en ascci de la palabra a el Cifrado RSA\n",
        "      encrip = me % ord('A') + 65   # rango [65, 122] donde 65='A' y 122='z'\n",
        "      cade += str(\"%c\" % encrip)   # convertimos de decimal a word ascci\n",
        "      data.append(me)\n",
        "    return cade, data\n",
        "\n",
        "  def Descifrado_msg(self, msg, data):\n",
        "    cade = \"\"\n",
        "    for i in range(len(msg)):\n",
        "      med = self.Descifrado(data[i])\n",
        "      cade += str(\"%c\" % med)\n",
        "    return cade\n",
        "\n",
        "  def get_edn(self):\n",
        "    return self.e, self.d, self.n\n",
        "\n",
        "rsa = RSA(8)"
      ],
      "metadata": {
        "id": "TCn7PUsU1ntJ"
      },
      "execution_count": null,
      "outputs": []
    },
    {
      "cell_type": "code",
      "source": [
        "rsa = RSA(59, True)   # definir k = n bits\n",
        "\n",
        "mensaje = 13\n",
        "print(\"\\nMensaje original: \", mensaje)\n",
        "c = rsa.Cifrado(mensaje)\n",
        "print(\"Cifrado: \", c)\n",
        "print(\"Descifrado: \", rsa.Descifrado(c))\n",
        "\n",
        "e,d,n = rsa.get_edn()\n",
        "\n",
        "print(\"\\ne*d mod phi =\", e*d % rsa.phi)    # e*d mod n = 1 mod n\n",
        "print(\"phi | (e*d - 1) = \", (e*d-1) % rsa.phi)   # phi | (e*d - 1)\n",
        "print(\"mgd(e, phi)={:}\\t mgd(d,phi)={:}\".format(Euclides(e, rsa.phi), Euclides(d, rsa.phi)))"
      ],
      "metadata": {
        "colab": {
          "base_uri": "https://localhost:8080/"
        },
        "id": "WeP6vC-lxoZ_",
        "outputId": "a798f998-e953-42f2-f45a-aeeb2329d31c"
      },
      "execution_count": null,
      "outputs": [
        {
          "output_type": "stream",
          "name": "stdout",
          "text": [
            "RSA (s=10000, e=16385075402760093, d=93236124964774545, n=103366470122510461, phi=103366469478339772)\n",
            "\n",
            "Mensaje original:  13\n",
            "Cifrado:  84648693784905735\n",
            "Descifrado:  13\n",
            "\n",
            "e*d mod phi = 1\n",
            "phi | (e*d - 1) =  0\n",
            "mgd(e, phi)=1\t mgd(d,phi)=1\n"
          ]
        }
      ]
    },
    {
      "cell_type": "markdown",
      "source": [
        "# 1. (5 points) Si m es el mensaje y c es el cifrado (ambos representados por un entero). Y además, la clave pública es P = {e, n} (en ese orden). <br> Hallar m cuando: <center> P = {65537, 999630013489} y c = 747120213790</center>\n"
      ],
      "metadata": {
        "id": "O1lzi8M2pbJn"
      }
    },
    {
      "cell_type": "code",
      "source": [
        "e, n, c = 65537, 999630013489, 747120213790\n",
        "\n",
        "########## CALCULANDO \"d\" ##########\n",
        "\n",
        "# def PHI(n):\n",
        "#     r = 0\n",
        "#     for i in range(1,n):\n",
        "#         if EUCLIDES(n,i)==1:\n",
        "#             r += 1\n",
        "#     return r\n",
        "\n",
        "# d = Inversa(e, PHI(n))\n",
        "\n",
        "\n",
        "########## CALCULANDO M ##########\n",
        "\n",
        "# m = EXPMOD(c, d, n)"
      ],
      "metadata": {
        "id": "xvIp-oF8ufg4"
      },
      "execution_count": null,
      "outputs": []
    },
    {
      "cell_type": "markdown",
      "source": [
        "# 2. (7 points) Si m es el mensaje y c es el cifrado (ambos representados por un entero). Y además, la clave pública es P = {e, n} (en ese orden). Hallar m cuando: \n",
        "<center>\n",
        "P ={7, 35794234179725868774991807832568455403003778024228226193532908190484670252364677411513516111204504060317568667} \n",
        "c=35794234179725868774991807832568455403003778024228226193532908190484670252364677411513516052471686245831933544\n",
        "</center>\n",
        "\n",
        "<h1>Sin embargo al enviar el mismo mensaje (m) cuando e' = 11, el cifrado resulto ser</h1>\n",
        "\n",
        "<center>\n",
        "c' =357942341797258687749918078325684554030037780242282261935329081\n",
        "90484670252364665786748759822531352444533388184.\n",
        "</center>\n",
        "<br>"
      ],
      "metadata": {
        "id": "-3rbm0JW5iPl"
      }
    },
    {
      "cell_type": "code",
      "source": [
        "e1 = 7\n",
        "e2 = 11\n",
        "\n",
        "c1 = 35794234179725868774991807832568455403003778024228226193532908190484670252364677411513516052471686245831933544\n",
        "c2 = 35794234179725868774991807832568455403003778024228226193532908190484670252364665786748759822531352444533388184\n",
        "\n",
        "n = 35794234179725868774991807832568455403003778024228226193532908190484670252364677411513516111204504060317568667\n",
        "\n",
        "\n",
        "# con x > 0 :\n",
        "\n",
        "d1, x1, y1 = Ext_Euclides(e1,e2)\n",
        "d2, _, _ = Ext_Euclides(c2,n)\n",
        "\n",
        "if d1==1 and d2==1:\n",
        "  c2_inv = Inversa(c2, n)\n",
        "  m = (EXPMOD(c1,x1,n) * EXPMOD(c2_inv, -1*y1,n)) % n\n",
        "  print(\"m = \",m)\n",
        "  print(\"c = \",EXPMOD(m, e2, n))"
      ],
      "metadata": {
        "id": "eHcW-pSC5iPs",
        "colab": {
          "base_uri": "https://localhost:8080/"
        },
        "outputId": "949b8b78-1ec2-4c66-d977-21af35c35541"
      },
      "execution_count": null,
      "outputs": [
        {
          "output_type": "stream",
          "name": "stdout",
          "text": [
            "m =  1\n",
            "c =  1\n"
          ]
        }
      ]
    },
    {
      "cell_type": "code",
      "source": [
        "# con x < 0 :\n",
        "d1, x1, y1 = Ext_Euclides(e1,e2)\n",
        "d2, _, _ = Ext_Euclides(c1,n)\n",
        "\n",
        "if d1==1 and d2==1:\n",
        "  c2_inv = Inversa(c1, n)\n",
        "  m = (EXPMOD(c2,y1,n) * EXPMOD(c2_inv, -1*x1,n)) % n\n",
        "  print(\"m = \",m)\n",
        "  print(\"c = \",EXPMOD(m, e1, n))"
      ],
      "metadata": {
        "colab": {
          "base_uri": "https://localhost:8080/"
        },
        "id": "KJvsxFDP4FK_",
        "outputId": "990e7dab-ec3b-46e7-da37-c2144a5e36f3"
      },
      "execution_count": null,
      "outputs": [
        {
          "output_type": "stream",
          "name": "stdout",
          "text": [
            "m =  13827831465063886838020624394233523964302535713793476149786042550018831062823603673726648906292457820275857059\n",
            "c =  12075330769265553486706228070090209049486549534898040819491959843250382262086676201906163716195154313826418854\n"
          ]
        }
      ]
    },
    {
      "cell_type": "markdown",
      "source": [
        "# 3. (8 points) Validar firmas digitales: Verificar que P(S(m)) = HASH(M) para 3 mensajes distintos, mostrando la respectiva firma σ en cada caso. Utilice la Función Hash SHA-1 para generar m a través de un texto M ( por ejemplo Hola Mundo). Utilizar b = 32 bits en el algoritmo RSA."
      ],
      "metadata": {
        "id": "ArnqlJrXj4-v"
      }
    },
    {
      "cell_type": "code",
      "source": [
        "import hashlib\n",
        "h = hashlib.sha1()\n",
        "rsa = RSA(32)   # definimos los 32 bits\n",
        "\n",
        "print(\" m\\t\\t\\t|\\t c = S(m)\\t\\t|\\t Hash(m)\\t\\t\\t|\\t m = P(S(m))\")\n",
        "print(\"-\"*125)\n",
        "\n",
        "words = [\"Hola Mundo\", \"Juego de Monos\", \"pichanga fiufiu\"]\n",
        "for word in words:\n",
        "  rsa_word, data = rsa.Cifrado_msg(word)\n",
        "\n",
        "  h.update(bytes(word, encoding=\"utf-8\"))\n",
        "  hash_word = h.hexdigest()\n",
        "  \n",
        "  rsa_word_2 = rsa.Descifrado_msg(rsa_word, data)\n",
        "\n",
        "  print(word + \" \"*(25-len(word)) + rsa_word + \" \"*(32-len(rsa_word)) + hash_word + \" \"*10 + rsa_word_2)"
      ],
      "metadata": {
        "colab": {
          "base_uri": "https://localhost:8080/"
        },
        "id": "AI-wR-AwlrgO",
        "outputId": "a557b37f-f082-48af-a421-78b82c9f48e5"
      },
      "execution_count": null,
      "outputs": [
        {
          "output_type": "stream",
          "name": "stdout",
          "text": [
            " m\t\t\t|\t c = S(m)\t\t|\t Hash(m)\t\t\t|\t m = P(S(m))\n",
            "-----------------------------------------------------------------------------------------------------------------------------\n",
            "Hola Mundo               ZfxPnkehf                      48124d6dc3b2e693a207667c32ac672414913994          Hola Mundo\n",
            "Juego de Monos           ukc^fPhcPnfefe                  5a6a086036594daa479a73504459d3e140b2d39f          Juego de Monos\n",
            "pichanga fiufiu          hENBxe^xPpEkpEk                 62fe33ab9565eb96cd1da8109c0eebcef6e060a1          pichanga fiufiu\n"
          ]
        }
      ]
    },
    {
      "cell_type": "markdown",
      "source": [
        "# Punto adicional para el Examen Final: Utilizar el algoritmo RSA (b = 32) para generar y validar una firma digital. Utilizar el estándar PKCS 1 v1.5 para añadir un padding al mensaje original. Fecha límite de entrega: 08/07/22."
      ],
      "metadata": {
        "id": "m3b42PW8Zlmw"
      }
    },
    {
      "cell_type": "code",
      "source": [
        "# Falta, pal prox sabado"
      ],
      "metadata": {
        "id": "lfIimCKOZlm5"
      },
      "execution_count": null,
      "outputs": []
    }
  ]
}